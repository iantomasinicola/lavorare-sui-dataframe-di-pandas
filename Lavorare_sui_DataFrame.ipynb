{
 "cells": [
  {
   "cell_type": "code",
   "execution_count": null,
   "metadata": {},
   "outputs": [],
   "source": [
    "import pandas as pd\n",
    "import numpy as np\n",
    "import datetime\n",
    "\n",
    "path = \"C:\\\\Users\\\\ianto\\Desktop\\\\Corsi\\\\CorsoPythonMachineLearning\\\\Script\\\\File\\\\\"\n",
    "\n",
    "#pd.set_option('display.max_columns', None)\n",
    "#pd.set_option('display.max_rows', None)"
   ]
  },
  {
   "cell_type": "code",
   "execution_count": null,
   "metadata": {},
   "outputs": [],
   "source": [
    "def ImportFile(path):\n",
    "            \n",
    "    clienti = pd.read_csv(filepath_or_buffer = path + 'Clienti.csv',\n",
    "            sep = \";\", \n",
    "            header = 0,\n",
    "            usecols = [\"NumeroCliente\",\"Nome\",\"Cognome\",\"DataNascita\",\"Regione\"],\n",
    "            parse_dates = [\"DataNascita\"]\n",
    "            )  \n",
    "        \n",
    "    clienti_index = pd.read_csv(filepath_or_buffer = path + 'Clienti.csv',\n",
    "            sep = \";\", \n",
    "            header = 0,\n",
    "            usecols = [\"NumeroCliente\",\"Nome\",\"DataNascita\",\"Regione\"],\n",
    "            parse_dates = [\"DataNascita\"],\n",
    "            index_col = \"NumeroCliente\"\n",
    "            )   \n",
    "    \n",
    "    fatture = pd.read_csv(filepath_or_buffer = path + 'Fatture.csv',\n",
    "            sep = \";\",  #separtore del file\n",
    "            header = None,\n",
    "            names = [\"NumeroFattura\",\"Tipologia\",\"Importo\",\"Iva\",\"IdCliente\",\"ResidenzaCliente\",\"DataFattura\",\"NumeroFornitore\"],\n",
    "            decimal = \",\", #separatore dei decimali il default è il .\n",
    "            )\n",
    "    \n",
    "    fatture['DataFattura'] =  pd.to_datetime(fatture['DataFattura'],\n",
    "                                             format=\"%d/%m/%Y\"\n",
    "                                            )  \n",
    "    \n",
    "    fatture['NumeroFornitore'] = fatture['NumeroFornitore'].astype('Int64')\n",
    "\n",
    "    fatture['Iva'] = fatture['Iva'].fillna(0).astype(np.int64)\n",
    "    \n",
    "   \n",
    "    fornitori = pd.read_csv(filepath_or_buffer = path + 'Fornitori.csv',\n",
    "            sep = \";\",  #separtore del file\n",
    "            header = 0\n",
    "            )\n",
    "    \n",
    "    fornitori['DataPrimaAcquisto'] =  pd.to_datetime(fornitori['DataPrimaAcquisto'],\n",
    "                                                     format=\"%d/%m/%Y\"\n",
    "                                                    )\n",
    "                                                     \n",
    "    fornitori['DataFineContratto'] =  pd.to_datetime(fornitori['DataFineContratto'],\n",
    "                                                     format=\"%d/%m/%Y\"\n",
    "                                                    )  \n",
    "\n",
    "    return [clienti,clienti_index,fatture,fornitori]"
   ]
  },
  {
   "cell_type": "code",
   "execution_count": null,
   "metadata": {},
   "outputs": [],
   "source": [
    "clienti,clienti_index,fatture,fornitori = ImportFile(path = path)"
   ]
  },
  {
   "cell_type": "code",
   "execution_count": null,
   "metadata": {},
   "outputs": [],
   "source": [
    "clienti"
   ]
  },
  {
   "cell_type": "markdown",
   "metadata": {},
   "source": [
    "# Selezionare e filtrare i dati"
   ]
  },
  {
   "cell_type": "markdown",
   "metadata": {},
   "source": [
    "Estrarre le colonne NumeroClienti, Nome e regione dal dataframe Clienti\n"
   ]
  },
  {
   "cell_type": "code",
   "execution_count": null,
   "metadata": {},
   "outputs": [],
   "source": [
    "#SELECT NumeroCliente, Nome, Regione \n",
    "#FROM   Clienti\n",
    "\n",
    "clienti[[\"NumeroCliente\", \"Nome\", \"Regione\"]]"
   ]
  },
  {
   "cell_type": "markdown",
   "metadata": {},
   "source": [
    "Estrarre tutte le informazioni del dataframe clienti"
   ]
  },
  {
   "cell_type": "code",
   "execution_count": null,
   "metadata": {},
   "outputs": [],
   "source": [
    "#SELECT * \n",
    "#FROM   Clienti\n",
    "\n",
    "clienti"
   ]
  },
  {
   "cell_type": "markdown",
   "metadata": {},
   "source": [
    "Estrarre tutte le informazioni dei clienti della regione Lazio"
   ]
  },
  {
   "cell_type": "code",
   "execution_count": null,
   "metadata": {},
   "outputs": [],
   "source": [
    "#SELECT * \n",
    "#FROM   Clienti \n",
    "#WHERE  Regione='Lazio'\n",
    "\n",
    "clienti[clienti[\"Regione\"] == \"Lazio\"]"
   ]
  },
  {
   "cell_type": "code",
   "execution_count": null,
   "metadata": {},
   "outputs": [],
   "source": [
    "clienti.query('Regione == \"Lazio\" and Nome == \"Giovanni\"') [[\"NumeroCliente\", \"Nome\"]]"
   ]
  },
  {
   "cell_type": "markdown",
   "metadata": {},
   "source": [
    "## Filtri con AND"
   ]
  },
  {
   "cell_type": "markdown",
   "metadata": {},
   "source": [
    "Estrarre NumeroCliente e Nome dei clienti della regione Lazio che si chiamano Giovanni"
   ]
  },
  {
   "cell_type": "code",
   "execution_count": null,
   "metadata": {},
   "outputs": [],
   "source": [
    "#SELECT NumeroCliente, \n",
    "#       Nome \n",
    "#FROM   Clienti \n",
    "#WHERE  Regione='Lazio'\n",
    "#   AND Nome='Giovanni\n",
    "\n",
    "clienti[(clienti[\"Regione\"] == \"Lazio\") & (clienti[\"Nome\"] == \"Giovanni\")] \\\n",
    "       [[\"NumeroCliente\", \"Nome\"]]"
   ]
  },
  {
   "cell_type": "code",
   "execution_count": null,
   "metadata": {},
   "outputs": [],
   "source": [
    "clienti.query('Regione == \"Lazio\" and Nome == \"Giovanni\"') [[\"NumeroCliente\", \"Nome\"]]"
   ]
  },
  {
   "cell_type": "markdown",
   "metadata": {},
   "source": [
    "## Filtri con OR"
   ]
  },
  {
   "cell_type": "markdown",
   "metadata": {},
   "source": [
    "Estrarre NumeroCliente, Nome e regione dei clienti che soddisfano almeno\n",
    "una delle seguenti proprietà:\n",
    "1) sono della regione Lazio\n",
    "\n",
    "2) si chiamano Giovanni"
   ]
  },
  {
   "cell_type": "code",
   "execution_count": null,
   "metadata": {},
   "outputs": [],
   "source": [
    "#SELECT NumeroCliente,\n",
    "#       Nome,\n",
    "#       Regione\n",
    "#FROM   Clienti \n",
    "#WHERE  Regione='Lazio'\n",
    "#    OR Nome='Giovanni\n",
    "\n",
    "clienti[(clienti[\"Regione\"] == \"Lazio\") | (clienti[\"Nome\"] == \"Giovanni\")] \\\n",
    "       [[\"NumeroCliente\", \"Nome\", \"Regione\"]]"
   ]
  },
  {
   "cell_type": "code",
   "execution_count": null,
   "metadata": {},
   "outputs": [],
   "source": [
    "clienti.query('Regione == \"Lazio\" or Nome == \"Giovanni\"') [[\"NumeroCliente\", \"Nome\", \"Regione\"]]"
   ]
  },
  {
   "cell_type": "markdown",
   "metadata": {},
   "source": [
    "## Filtri con isin"
   ]
  },
  {
   "cell_type": "markdown",
   "metadata": {},
   "source": [
    "Estrarre  NumeroCliente, Nome e regione dei clienti residenti nel Lazio\n",
    "o nel Piemonte"
   ]
  },
  {
   "cell_type": "code",
   "execution_count": null,
   "metadata": {},
   "outputs": [],
   "source": [
    "#SELECT NumeroCliente, \n",
    "#       Nome, \n",
    "#       Regione\n",
    "#FROM   Clienti \n",
    "#WHERE  Regione = 'Piemonte'\n",
    "#    OR Regione='Lazio'\n",
    "#oppure\n",
    "#SELECT NumeroCliente, \n",
    "#       Nome, \n",
    "#       Regione\n",
    "#FROM   Clienti \n",
    "#WHERE  Regione IN ('Piemonte', 'Lazio')\n",
    "\n",
    "clienti[(clienti[\"Regione\"] == \"Piemonte\") | (clienti[\"Regione\"] == \"Lazio\")] \\\n",
    "       [[\"NumeroCliente\", \"Nome\",\"Regione\"]]\n",
    "\n",
    "#oppure\n",
    "\n",
    "clienti[clienti[\"Regione\"].isin([\"Piemonte\",\"Lazio\"])] \\\n",
    "       [[\"NumeroCliente\", \"Nome\",\"Regione\"]]"
   ]
  },
  {
   "cell_type": "code",
   "execution_count": null,
   "metadata": {},
   "outputs": [],
   "source": [
    "clienti.query('Regione in [\"Piemonte\",\"Lazio\"]')[[\"NumeroCliente\", \"Nome\",\"Regione\"]]"
   ]
  },
  {
   "cell_type": "markdown",
   "metadata": {},
   "source": [
    "## Attenzione ai tipi!"
   ]
  },
  {
   "cell_type": "code",
   "execution_count": null,
   "metadata": {},
   "outputs": [],
   "source": [
    "clienti[clienti[\"NumeroCliente\"] == \"3\"] \\\n",
    "       [[\"Nome\", \"Regione\"]]"
   ]
  },
  {
   "cell_type": "code",
   "execution_count": null,
   "metadata": {},
   "outputs": [],
   "source": [
    "clienti.dtypes"
   ]
  },
  {
   "cell_type": "code",
   "execution_count": null,
   "metadata": {},
   "outputs": [],
   "source": [
    "clienti2 = clienti.copy()\n",
    "clienti2[\"NumeroCliente\"] = clienti2[\"NumeroCliente\"].astype(str)"
   ]
  },
  {
   "cell_type": "code",
   "execution_count": null,
   "metadata": {},
   "outputs": [],
   "source": [
    "clienti2.dtypes"
   ]
  },
  {
   "cell_type": "code",
   "execution_count": null,
   "metadata": {},
   "outputs": [],
   "source": [
    "clienti2[clienti2[\"NumeroCliente\"] == 3] \\\n",
    "       [[\"Nome\", \"Regione\"]]"
   ]
  },
  {
   "cell_type": "markdown",
   "metadata": {},
   "source": [
    "## Attenzione ai null! "
   ]
  },
  {
   "cell_type": "markdown",
   "metadata": {},
   "source": [
    "Null risulta diverso da Lazio (non accade lo stesso con l'SQL)"
   ]
  },
  {
   "cell_type": "code",
   "execution_count": null,
   "metadata": {},
   "outputs": [],
   "source": [
    "clienti[(clienti[\"Regione\"] != \"Lazio\")] "
   ]
  },
  {
   "cell_type": "markdown",
   "metadata": {},
   "source": [
    "estrarre tutte le righe dove la regione è null"
   ]
  },
  {
   "cell_type": "code",
   "execution_count": null,
   "metadata": {},
   "outputs": [],
   "source": [
    "#SELECT *\n",
    "#FROM   Clienti \n",
    "#WHERE  Regione IS NULL\n",
    "\n",
    "clienti[(clienti[\"Regione\"].isna())] "
   ]
  },
  {
   "cell_type": "code",
   "execution_count": null,
   "metadata": {},
   "outputs": [],
   "source": [
    "clienti.query(\"Regione.isna()\")"
   ]
  },
  {
   "cell_type": "markdown",
   "metadata": {},
   "source": [
    "Estrarre tutte le righe dove la regione non è null"
   ]
  },
  {
   "cell_type": "code",
   "execution_count": null,
   "metadata": {},
   "outputs": [],
   "source": [
    "#SELECT *\n",
    "#FROM   Clienti \n",
    "#WHERE  Regione IS NOT NULL\n",
    "\n",
    "clienti[(clienti[\"Regione\"].notna())]"
   ]
  },
  {
   "cell_type": "code",
   "execution_count": null,
   "metadata": {},
   "outputs": [],
   "source": [
    "len(clienti.query(\"Regione.notna()\"))"
   ]
  },
  {
   "cell_type": "markdown",
   "metadata": {},
   "source": [
    "## Filtri su colonne di tipo datetime"
   ]
  },
  {
   "cell_type": "markdown",
   "metadata": {},
   "source": [
    "Estrarre tutte le fatture emesse dopo il 3 marzo 2018"
   ]
  },
  {
   "cell_type": "code",
   "execution_count": null,
   "metadata": {},
   "outputs": [],
   "source": [
    "fatture.dtypes"
   ]
  },
  {
   "cell_type": "code",
   "execution_count": null,
   "metadata": {},
   "outputs": [],
   "source": [
    "#SQL\n",
    "#SELECT *\n",
    "#FROM   Fatture\n",
    "#WHERE  DataFattura > '2018-03-01'\n",
    "\n",
    "fatture[fatture[\"DataFattura\"] > \"2018-03-01\"]"
   ]
  },
  {
   "cell_type": "markdown",
   "metadata": {},
   "source": [
    "## Filtri su funzioni applicate a colonne"
   ]
  },
  {
   "cell_type": "markdown",
   "metadata": {},
   "source": [
    "Estrarre tutte le fatture del 2018"
   ]
  },
  {
   "cell_type": "code",
   "execution_count": null,
   "metadata": {},
   "outputs": [],
   "source": [
    "#SELECT *\n",
    "#FROM   Fatture\n",
    "#WHERE  YEAR(DataFattura) = 2018\n",
    "\n",
    "fatture[fatture[\"DataFattura\"].dt.year == 2018]"
   ]
  },
  {
   "cell_type": "code",
   "execution_count": null,
   "metadata": {},
   "outputs": [],
   "source": [
    "fatture.query(\"DataFattura.dt.year == 2018\")"
   ]
  },
  {
   "cell_type": "markdown",
   "metadata": {},
   "source": [
    "# Aggregare i dati"
   ]
  },
  {
   "cell_type": "markdown",
   "metadata": {},
   "source": [
    "## Contare il numero di righe"
   ]
  },
  {
   "cell_type": "markdown",
   "metadata": {},
   "source": [
    "Contare il numero di righe del dataframe Fatture"
   ]
  },
  {
   "cell_type": "code",
   "execution_count": null,
   "metadata": {},
   "outputs": [],
   "source": [
    "#SELECT COUNT(*)\n",
    "#FROM   Fatture\n",
    "\n",
    "len(fatture)"
   ]
  },
  {
   "cell_type": "code",
   "execution_count": null,
   "metadata": {},
   "outputs": [],
   "source": [
    "#oppure\n",
    "fatture.shape[0]"
   ]
  },
  {
   "cell_type": "markdown",
   "metadata": {},
   "source": [
    "## Calcolare indici statistici di una colonna"
   ]
  },
  {
   "cell_type": "markdown",
   "metadata": {},
   "source": [
    "Calcolare la somma della colonna Importo del dataframe Fatture"
   ]
  },
  {
   "cell_type": "code",
   "execution_count": null,
   "metadata": {},
   "outputs": [],
   "source": [
    "#SELECT SUM(Importo)\n",
    "#FROM   Fatture\n",
    "\n",
    "fatture[\"Importo\"].sum()"
   ]
  },
  {
   "cell_type": "markdown",
   "metadata": {},
   "source": [
    "Calcolare la media della colonna Importo"
   ]
  },
  {
   "cell_type": "code",
   "execution_count": null,
   "metadata": {},
   "outputs": [],
   "source": [
    "fatture[\"Importo\"].mean()"
   ]
  },
  {
   "cell_type": "markdown",
   "metadata": {},
   "source": [
    "## Calcolare indici statistici su tutte le colonne"
   ]
  },
  {
   "cell_type": "markdown",
   "metadata": {},
   "source": [
    "Calcolare la somma di tutte le colonne"
   ]
  },
  {
   "cell_type": "code",
   "execution_count": null,
   "metadata": {},
   "outputs": [],
   "source": [
    "fatture.sum()"
   ]
  },
  {
   "cell_type": "markdown",
   "metadata": {},
   "source": [
    "Calcolare i principali indici statistici di tutte le colonne"
   ]
  },
  {
   "cell_type": "code",
   "execution_count": null,
   "metadata": {},
   "outputs": [],
   "source": [
    "fatture.describe()"
   ]
  },
  {
   "cell_type": "markdown",
   "metadata": {},
   "source": [
    "## Aggregare su una colonna"
   ]
  },
  {
   "cell_type": "markdown",
   "metadata": {},
   "source": [
    "Calcolare il numero di Fatture per ogni fornitore "
   ]
  },
  {
   "cell_type": "code",
   "execution_count": null,
   "metadata": {},
   "outputs": [],
   "source": [
    "fatture.groupby(by=\"NumeroFornitore\",\n",
    "                as_index=False, \n",
    "                dropna=False)[\"NumeroFattura\"].size()"
   ]
  },
  {
   "cell_type": "markdown",
   "metadata": {},
   "source": [
    "Altro metodo"
   ]
  },
  {
   "cell_type": "code",
   "execution_count": null,
   "metadata": {},
   "outputs": [],
   "source": [
    "#SELECT   NumeroFornitore, count(*)\n",
    "#FROM     Fatture\n",
    "#GROUP BY NumeroFornitore;\n",
    "\n",
    "fatture.groupby(by=\"NumeroFornitore\",\n",
    "                as_index=False, \n",
    "                dropna=False) \\\n",
    "       .agg(conteggio   = (\"NumeroFattura\",\n",
    "                           np.size)\n",
    "            )"
   ]
  },
  {
   "cell_type": "markdown",
   "metadata": {},
   "source": [
    "I dati raggruppati si presentano ad essere rappresentati graficamente"
   ]
  },
  {
   "cell_type": "code",
   "execution_count": null,
   "metadata": {},
   "outputs": [],
   "source": [
    "grafico = fatture.groupby(by=\"NumeroFornitore\",\n",
    "                          as_index=False, \n",
    "                          dropna=False) \\\n",
    "                 .size() \n",
    "\n",
    "grafico.plot(x = 'NumeroFornitore',\n",
    "             y = 'size',\n",
    "             kind = 'bar')"
   ]
  },
  {
   "cell_type": "markdown",
   "metadata": {},
   "source": [
    "## Aggregare su due colonne"
   ]
  },
  {
   "cell_type": "markdown",
   "metadata": {},
   "source": [
    "Calcolare per ogni coppia di Fornitore e Cliente:\n",
    "\n",
    "- l'importo totale\n",
    "\n",
    "- la media dell'importo\n",
    "\n",
    "- il numero di fatture"
   ]
  },
  {
   "cell_type": "code",
   "execution_count": null,
   "metadata": {},
   "outputs": [],
   "source": [
    "#SELECT   NumeroFornitore, \n",
    "#         IdCliente, \n",
    "#         SUM(Importo) as somma_importo, \n",
    "#         AVG(Importo) as media_importo,\n",
    "#         COUNT(*) as conteggio\n",
    "#FROM     Fatture\n",
    "#GROUP BY NumeroFornitore, IdCliente;\n",
    "\n",
    "fatture.groupby(by=[\"NumeroFornitore\",\"IdCliente\"], as_index=False, dropna=False) \\\n",
    "       .agg(  somma_importo  = (\"Importo\",\n",
    "                              np.sum),\n",
    "              media_importo = (\"Importo\",\n",
    "                              np.mean),\n",
    "              conteggio   = (\"NumeroFattura\",\n",
    "                              np.size)\n",
    "            )"
   ]
  },
  {
   "cell_type": "markdown",
   "metadata": {},
   "source": [
    "## Un altro metodo per aggregare i dati"
   ]
  },
  {
   "cell_type": "markdown",
   "metadata": {},
   "source": [
    "Quante righe ci sono per ogni fornitore?"
   ]
  },
  {
   "cell_type": "code",
   "execution_count": null,
   "metadata": {},
   "outputs": [],
   "source": [
    "fatture.groupby(by=[\"NumeroFornitore\"], as_index=False, dropna=False).size()"
   ]
  },
  {
   "cell_type": "markdown",
   "metadata": {},
   "source": [
    "Cambiamo il nome della colonna"
   ]
  },
  {
   "cell_type": "code",
   "execution_count": null,
   "metadata": {},
   "outputs": [],
   "source": [
    "fatture.groupby(by=[\"NumeroFornitore\"], as_index=False, dropna=False).size().rename(columns={\"size\":\"numero_totale\"})"
   ]
  },
  {
   "cell_type": "markdown",
   "metadata": {},
   "source": [
    "Riportare la somma della colonna importo e la somma della colonna importo al variare del fornitore"
   ]
  },
  {
   "cell_type": "code",
   "execution_count": null,
   "metadata": {},
   "outputs": [],
   "source": [
    "fatture[\"Importo\"].sum()"
   ]
  },
  {
   "cell_type": "code",
   "execution_count": null,
   "metadata": {},
   "outputs": [],
   "source": [
    "fatture.groupby(by=[\"NumeroFornitore\"], as_index=False, dropna=False)[\"Importo\"].sum()"
   ]
  },
  {
   "cell_type": "markdown",
   "metadata": {},
   "source": [
    "Riportare la media di importo e iva al variare del fornitore"
   ]
  },
  {
   "cell_type": "code",
   "execution_count": null,
   "metadata": {},
   "outputs": [],
   "source": [
    "fatture[[\"Importo\",\"Iva\"]].mean()"
   ]
  },
  {
   "cell_type": "code",
   "execution_count": null,
   "metadata": {},
   "outputs": [],
   "source": [
    "fatture.groupby(by=[\"NumeroFornitore\"], as_index=False, dropna=False)[[\"Importo\",\"Iva\"]].mean()"
   ]
  },
  {
   "cell_type": "markdown",
   "metadata": {},
   "source": [
    "Riportare la somma dell'importo e la media dell'iva al variare del fornitore"
   ]
  },
  {
   "cell_type": "code",
   "execution_count": null,
   "metadata": {},
   "outputs": [],
   "source": [
    "fatture.groupby(by=[\"NumeroFornitore\"], as_index=False, dropna=False).agg({\"Importo\":\"sum\",\"Iva\":\"mean\"})"
   ]
  },
  {
   "cell_type": "code",
   "execution_count": null,
   "metadata": {},
   "outputs": [],
   "source": [
    "fatture.groupby(by=[\"NumeroFornitore\"], as_index=False, dropna=False).\\\n",
    "        agg({\"Importo\":\"sum\",\"Iva\":\"mean\"}).\\\n",
    "        rename(columns={\"Importo\":\"Somma importo\", \"Iva\":\"Media iva\"})"
   ]
  },
  {
   "cell_type": "markdown",
   "metadata": {},
   "source": [
    "Riportare il numero di clienti univoci e il numero di clienti univoci al variere del fornitore"
   ]
  },
  {
   "cell_type": "code",
   "execution_count": null,
   "metadata": {},
   "outputs": [],
   "source": [
    "fatture[\"IdCliente\"].nunique()"
   ]
  },
  {
   "cell_type": "code",
   "execution_count": null,
   "metadata": {},
   "outputs": [],
   "source": [
    "fatture.groupby(by=[\"NumeroFornitore\"], as_index=False, dropna=False)[\"IdCliente\"].nunique()"
   ]
  },
  {
   "cell_type": "markdown",
   "metadata": {},
   "source": [
    "Riportare il numero di regioni presenti nel Dataframe dei clienti"
   ]
  },
  {
   "cell_type": "code",
   "execution_count": null,
   "metadata": {},
   "outputs": [],
   "source": [
    "clienti[\"Regione\"].nunique()"
   ]
  },
  {
   "cell_type": "code",
   "execution_count": null,
   "metadata": {},
   "outputs": [],
   "source": [
    "clienti[[\"Regione\"]].drop_duplicates()"
   ]
  },
  {
   "cell_type": "markdown",
   "metadata": {},
   "source": [
    "# Combinare dataframe differenti"
   ]
  },
  {
   "cell_type": "markdown",
   "metadata": {},
   "source": [
    "Riportare in un solo dataframe tutte le colonne dei dataframe Fatture e Clienti."
   ]
  },
  {
   "cell_type": "code",
   "execution_count": null,
   "metadata": {},
   "outputs": [],
   "source": [
    "#SELECT     *\n",
    "#FROM       Fatture\n",
    "#INNER JOIN Clienti\n",
    "# ON Fatture.IdCliente = Clienti.NumeroCliente\n",
    "\n",
    "pd.merge(fatture, \n",
    "         clienti, \n",
    "         how = 'inner',\n",
    "         left_on = \"IdCliente\", \n",
    "         right_on = \"NumeroCliente\")"
   ]
  },
  {
   "cell_type": "markdown",
   "metadata": {},
   "source": [
    "Cosa succede se combiniamo Fatture e Fornitori? \n",
    "\n",
    "Ottengo un errore perché i tipi delle due colonne sono differenti"
   ]
  },
  {
   "cell_type": "code",
   "execution_count": null,
   "metadata": {},
   "outputs": [],
   "source": [
    "#SELECT      *\n",
    "#FROM        Fatture\n",
    "#INNER JOIN  Fornitori\n",
    "#         ON Fatture.NumeroFornitore = Fornitori.NumeroFornitore\n",
    "\n",
    "pd.merge(fatture,\n",
    "         fornitori, \n",
    "         how = 'inner',\n",
    "         left_on = \"NumeroFornitore\",\n",
    "         right_on = \"NumeroFornitore\")"
   ]
  },
  {
   "cell_type": "markdown",
   "metadata": {},
   "source": [
    "Analizziamo i tipi"
   ]
  },
  {
   "cell_type": "code",
   "execution_count": null,
   "metadata": {},
   "outputs": [],
   "source": [
    "fatture.dtypes"
   ]
  },
  {
   "cell_type": "code",
   "execution_count": null,
   "metadata": {},
   "outputs": [],
   "source": [
    "fornitori.dtypes"
   ]
  },
  {
   "cell_type": "markdown",
   "metadata": {},
   "source": [
    "Convertiamo la colonna NumeroFornitore del dataframe Fornitori in Int64"
   ]
  },
  {
   "cell_type": "code",
   "execution_count": null,
   "metadata": {},
   "outputs": [],
   "source": [
    "fornitori['NumeroFornitore'] = fornitori['NumeroFornitore'].astype('Int64')"
   ]
  },
  {
   "cell_type": "markdown",
   "metadata": {},
   "source": [
    "Ora funziona ma il risultato è corretto?"
   ]
  },
  {
   "cell_type": "code",
   "execution_count": null,
   "metadata": {},
   "outputs": [],
   "source": [
    "pd.merge(fatture,\n",
    "         fornitori,\n",
    "         how = 'inner',\n",
    "         left_on = \"NumeroFornitore\", \n",
    "         right_on = \"NumeroFornitore\")"
   ]
  },
  {
   "cell_type": "code",
   "execution_count": null,
   "metadata": {},
   "outputs": [],
   "source": [
    "fatture[fatture[\"NumeroFattura\"].isin([12,13])]"
   ]
  },
  {
   "cell_type": "markdown",
   "metadata": {},
   "source": [
    "Come recupero le due fatture senza fornitori?"
   ]
  },
  {
   "cell_type": "code",
   "execution_count": null,
   "metadata": {},
   "outputs": [],
   "source": [
    "#Come \"recupero\" le due fatture senza fornitore?\n",
    "#SQL\n",
    "#SELECT    *\n",
    "#FROM      Fatture\n",
    "#LEFT JOIN Fornitori\n",
    "#       ON Fatture.NumeroFornitore = Fornitori.NumeroFornitore\n",
    "\n",
    "pd.merge(fatture,\n",
    "         fornitori,\n",
    "         how = 'left',\n",
    "         left_on = \"NumeroFornitore\",\n",
    "         right_on = \"NumeroFornitore\")\n"
   ]
  },
  {
   "cell_type": "markdown",
   "metadata": {},
   "source": [
    "Calcolare i clienti senza fatture associate"
   ]
  },
  {
   "cell_type": "code",
   "execution_count": null,
   "metadata": {},
   "outputs": [],
   "source": [
    "#SQL\n",
    "#SELECT    Clienti.NumeroCliente\n",
    "#FROM      Clienti\n",
    "#LEFT JOIN Fatture\n",
    "#       ON Clienti.NumeroCliente = Fatture.IdCliente \n",
    "#WHERE     Fatture.IdCliente IS NULL\n",
    "\n",
    "clienti_fatture = pd.merge(clienti, \n",
    "                          fatture[\"IdCliente\"], \n",
    "                          how='left', \n",
    "                          left_on=\"NumeroCliente\", \n",
    "                          right_on=\"IdCliente\")\n",
    "\n",
    "clienti_fatture[clienti_fatture[\"IdCliente\"].isna()][[\"NumeroCliente\"]]"
   ]
  },
  {
   "cell_type": "markdown",
   "metadata": {},
   "source": [
    "## Unire dataframe"
   ]
  },
  {
   "cell_type": "markdown",
   "metadata": {},
   "source": [
    "Uniamo verticalmente i cognomi dei clienti e le denominazioni dei fornitori"
   ]
  },
  {
   "cell_type": "code",
   "execution_count": null,
   "metadata": {
    "scrolled": true
   },
   "outputs": [],
   "source": [
    "pd.concat(objs = [clienti[[\"Cognome\"]],fornitori[[\"Denominazione\"]]],\n",
    "          ignore_index = True)"
   ]
  },
  {
   "cell_type": "markdown",
   "metadata": {},
   "source": [
    "Aggiungiamo ai clienti una colonna denominazione contenente la concatenazione di nome e cognome"
   ]
  },
  {
   "cell_type": "code",
   "execution_count": null,
   "metadata": {},
   "outputs": [],
   "source": [
    "#SQL\n",
    "#CONCAT(coalesce(Nome,''), ' ',coalesce(Cognome,''))\n",
    "\n",
    "clienti[\"Denominazione\"] = clienti[\"Nome\"].fillna(\"\") + \" \" + clienti[\"Cognome\"].fillna(\"\")"
   ]
  },
  {
   "cell_type": "markdown",
   "metadata": {},
   "source": [
    "Ripetiamo il concat usando in entrambi i casi la colonna denominazione"
   ]
  },
  {
   "cell_type": "code",
   "execution_count": null,
   "metadata": {},
   "outputs": [],
   "source": [
    "pd.concat(objs = [clienti[[\"Denominazione\"]],fornitori[[\"Denominazione\"]]],\n",
    "          ignore_index = True)"
   ]
  },
  {
   "cell_type": "markdown",
   "metadata": {},
   "source": [
    "Eliminiamo la colonna Denominazione"
   ]
  },
  {
   "cell_type": "code",
   "execution_count": null,
   "metadata": {},
   "outputs": [],
   "source": [
    "clienti = clienti.drop([\"Denominazione\"],axis=1)"
   ]
  },
  {
   "cell_type": "markdown",
   "metadata": {},
   "source": [
    "Attenzione ai tipi, tra colonne numeriche il più esegue l'addizione"
   ]
  },
  {
   "cell_type": "code",
   "execution_count": null,
   "metadata": {},
   "outputs": [],
   "source": [
    "fatture[\"NumeroFattura\"] + fatture[\"Iva\"]"
   ]
  },
  {
   "cell_type": "markdown",
   "metadata": {},
   "source": [
    "# Ordinare un dataframe"
   ]
  },
  {
   "cell_type": "markdown",
   "metadata": {},
   "source": [
    "## Ordinare un dataframe per una colonna"
   ]
  },
  {
   "cell_type": "markdown",
   "metadata": {},
   "source": [
    "Visualizzare le fatture dalla più recente alla meno recente"
   ]
  },
  {
   "cell_type": "code",
   "execution_count": null,
   "metadata": {},
   "outputs": [],
   "source": [
    "#SQL\n",
    "#SELECT *\n",
    "#FROM   Fatture\n",
    "#ORDER BY DataFattura DESC\n",
    "\n",
    "fatture.sort_values(by=['DataFattura'], ascending=False)"
   ]
  },
  {
   "cell_type": "markdown",
   "metadata": {},
   "source": [
    "Creare un nuovo dataframe con il nuovo ordine"
   ]
  },
  {
   "cell_type": "code",
   "execution_count": null,
   "metadata": {},
   "outputs": [],
   "source": [
    "fatture_new = fatture.sort_values(by=['DataFattura'], ascending=False).copy()\n",
    "fatture_new"
   ]
  },
  {
   "cell_type": "markdown",
   "metadata": {},
   "source": [
    "Resettiamo l'indice di FattureNew"
   ]
  },
  {
   "cell_type": "code",
   "execution_count": null,
   "metadata": {},
   "outputs": [],
   "source": [
    "fatture_new = fatture_new.reset_index(drop=True)\n",
    "fatture_new"
   ]
  },
  {
   "cell_type": "markdown",
   "metadata": {},
   "source": [
    "## Ordinare un dataframe in maniera randomica "
   ]
  },
  {
   "cell_type": "markdown",
   "metadata": {},
   "source": [
    "Visualizzare il dataframe Fatture con un ordinamento randomico"
   ]
  },
  {
   "cell_type": "code",
   "execution_count": null,
   "metadata": {},
   "outputs": [],
   "source": [
    "fatture.sample(frac=1,\n",
    "               random_state=0 #per rendere l'ordinamento ripetibile)\n",
    "              )"
   ]
  },
  {
   "cell_type": "markdown",
   "metadata": {},
   "source": [
    "# Modificare un dataframe"
   ]
  },
  {
   "cell_type": "markdown",
   "metadata": {},
   "source": [
    "## Copiare un dataframe"
   ]
  },
  {
   "cell_type": "markdown",
   "metadata": {},
   "source": [
    "Copiare il dataframe Clienti in ClientiBis"
   ]
  },
  {
   "cell_type": "code",
   "execution_count": null,
   "metadata": {},
   "outputs": [],
   "source": [
    "#SQL\n",
    "#SELECT *\n",
    "#INTO   ClientiBis\n",
    "#FROM   Clienti\n",
    "\n",
    "clienti_bis = clienti.copy()"
   ]
  },
  {
   "cell_type": "markdown",
   "metadata": {},
   "source": [
    "## Convertire un dataframe in una lista di liste"
   ]
  },
  {
   "cell_type": "markdown",
   "metadata": {},
   "source": [
    "Convertire il dataframe Clienti in una lista"
   ]
  },
  {
   "cell_type": "code",
   "execution_count": null,
   "metadata": {},
   "outputs": [],
   "source": [
    "lista_clienti = clienti.values.tolist()"
   ]
  },
  {
   "cell_type": "code",
   "execution_count": null,
   "metadata": {},
   "outputs": [],
   "source": [
    "type(lista_clienti)"
   ]
  },
  {
   "cell_type": "code",
   "execution_count": null,
   "metadata": {},
   "outputs": [],
   "source": [
    "lista_clienti"
   ]
  },
  {
   "cell_type": "markdown",
   "metadata": {},
   "source": [
    "## Convertire un dataframe in un array di numpy"
   ]
  },
  {
   "cell_type": "markdown",
   "metadata": {},
   "source": [
    "Creare un array di numpy a partire dal dataframe clienti"
   ]
  },
  {
   "cell_type": "code",
   "execution_count": null,
   "metadata": {},
   "outputs": [],
   "source": [
    "array = clienti.values"
   ]
  },
  {
   "cell_type": "code",
   "execution_count": null,
   "metadata": {},
   "outputs": [],
   "source": [
    "type(array)"
   ]
  },
  {
   "cell_type": "code",
   "execution_count": null,
   "metadata": {},
   "outputs": [],
   "source": [
    "array"
   ]
  },
  {
   "cell_type": "markdown",
   "metadata": {},
   "source": [
    "## Creare un dataframe a partire da una lista"
   ]
  },
  {
   "cell_type": "markdown",
   "metadata": {},
   "source": [
    "Creare un dataframe a partire da una lista, assegnando i nomi alle colonne"
   ]
  },
  {
   "cell_type": "code",
   "execution_count": null,
   "metadata": {},
   "outputs": [],
   "source": [
    "new_df = pd.DataFrame(data = lista_clienti, \n",
    "                            columns = ['NumeroCliente', 'Nome', 'Cognome', 'DataNascita', 'Regione'] )"
   ]
  },
  {
   "cell_type": "code",
   "execution_count": null,
   "metadata": {},
   "outputs": [],
   "source": [
    "new_df.dtypes"
   ]
  },
  {
   "cell_type": "markdown",
   "metadata": {},
   "source": [
    "## Rinominare una colonna "
   ]
  },
  {
   "cell_type": "markdown",
   "metadata": {},
   "source": [
    "Rinominare la colonna Iva del dataframe Fatture in Tax"
   ]
  },
  {
   "cell_type": "code",
   "execution_count": null,
   "metadata": {},
   "outputs": [],
   "source": [
    "fatture = fatture.rename(columns={\"Iva\": \"Tax\"})"
   ]
  },
  {
   "cell_type": "markdown",
   "metadata": {},
   "source": [
    "## Eliminare una colonna "
   ]
  },
  {
   "cell_type": "markdown",
   "metadata": {},
   "source": [
    "Eliminare la colonna ResidenzaCliente dal dataframe Fatture"
   ]
  },
  {
   "cell_type": "code",
   "execution_count": null,
   "metadata": {},
   "outputs": [],
   "source": [
    "#SQL\n",
    "#ALTER TABLE Fatture\n",
    "#DROP COLUMN ResidenzaCliente\n",
    "\n",
    "fatture = fatture.drop([\"ResidenzaCliente\"],axis=1)"
   ]
  },
  {
   "cell_type": "markdown",
   "metadata": {},
   "source": [
    "## Aggiornare una colonna"
   ]
  },
  {
   "cell_type": "markdown",
   "metadata": {},
   "source": [
    "Modificare il nome di tutti i clienti della regione Lazio valorizzandolo con \"Nicola\""
   ]
  },
  {
   "cell_type": "code",
   "execution_count": null,
   "metadata": {},
   "outputs": [],
   "source": [
    "#SQL\n",
    "#UPDATE Clienti\n",
    "#SET    Nome = 'Nicola'\n",
    "#WHERE  Regione = 'Lazio'\n",
    "\n",
    "clienti.loc[clienti[\"Regione\"] == \"Lazio\", \"Nome\"] = 'Nicola'"
   ]
  },
  {
   "cell_type": "code",
   "execution_count": null,
   "metadata": {},
   "outputs": [],
   "source": [
    "clienti"
   ]
  },
  {
   "cell_type": "code",
   "execution_count": null,
   "metadata": {},
   "outputs": [],
   "source": [
    "#oppure\n",
    "\n",
    "clienti[\"Nome\"] = np.where(clienti[\"Regione\"] == \"Lazio\", \"Nicola\", clienti[\"Nome\"]  )"
   ]
  },
  {
   "cell_type": "markdown",
   "metadata": {},
   "source": [
    "## Aggiornare una colonna sostituendo i null con un valore"
   ]
  },
  {
   "cell_type": "markdown",
   "metadata": {},
   "source": [
    "Sostituire i null presenti nella colonna Regione del dataframe Cliente con la stringa \"Non conosciuta\""
   ]
  },
  {
   "cell_type": "code",
   "execution_count": null,
   "metadata": {},
   "outputs": [],
   "source": [
    "#SQL\n",
    "#UPDATE Clienti\n",
    "#SET    Regione = COALESCE(Regione,'Non conosciuta')\n",
    "#WHERE  Regione IS NULL\n",
    "\n",
    "clienti[\"Regione\"] = clienti[\"Regione\"].fillna(\"Non conosciuta\")"
   ]
  },
  {
   "cell_type": "markdown",
   "metadata": {},
   "source": [
    "## Concatenare una colonna"
   ]
  },
  {
   "cell_type": "markdown",
   "metadata": {},
   "source": [
    "Concatenare le colonne Denominazione e RegioneResidenza del dataframe fornitori.\n",
    "\n",
    "Attenzione, in presenza di un null il risultato della concatenazione sarà null. Per evitare che ciò accada, il metodo fillna può essere usato per sostituire i null con ''."
   ]
  },
  {
   "cell_type": "code",
   "execution_count": null,
   "metadata": {},
   "outputs": [],
   "source": [
    "fornitori[\"ColonnaConcatenata\"] = fornitori[\"Denominazione\"].fillna(\"\") + \",\" + fornitori[\"RegioneResidenza\"].fillna(\"\")\n",
    "fornitori"
   ]
  },
  {
   "cell_type": "markdown",
   "metadata": {},
   "source": [
    "## Splittare una colonna"
   ]
  },
  {
   "cell_type": "markdown",
   "metadata": {},
   "source": [
    "Splittare tramite la virgola la colonna appena creata in due colonne: ColonnaSplit1 e ColonnaSplit2"
   ]
  },
  {
   "cell_type": "code",
   "execution_count": null,
   "metadata": {},
   "outputs": [],
   "source": [
    "fornitori[[\"ColonnaSplit1\",\"ColonnaSplit2\"]] = fornitori[\"ColonnaConcatenata\"].str.split(pat = ',', expand=True)\n",
    "fornitori"
   ]
  },
  {
   "cell_type": "markdown",
   "metadata": {},
   "source": [
    "## Creare una colonna in base ad una condizione"
   ]
  },
  {
   "cell_type": "markdown",
   "metadata": {},
   "source": [
    "Creare nel dataframe Fatture la colonna TipologiaPrezzo contenente \"Prezzo alto\" se il valore della colonna Importo è maggiore di 50, \"Prezzo basso\" altrimenti."
   ]
  },
  {
   "cell_type": "code",
   "execution_count": null,
   "metadata": {},
   "outputs": [],
   "source": [
    "#SQL\n",
    "#CASE WHEN Importo > 50 \n",
    "#     THEN 'Prezzo alto'\n",
    "#     ELSE 'Prezzo basso'\n",
    "#END\n",
    "\n",
    "fatture[\"TipologiaPrezzo\"] = np.where(fatture[\"Importo\"] > 50, \"Prezzo alto\", \"Prezzo basso\")\n",
    "fatture"
   ]
  },
  {
   "cell_type": "markdown",
   "metadata": {},
   "source": [
    "## Creare una colonna in base a più condizioni"
   ]
  },
  {
   "cell_type": "markdown",
   "metadata": {},
   "source": [
    "Creare nel dataframe Fatture la colonna TipologiaPrezzo contenente:\n",
    "\n",
    "- \"Prezzo alto\" se il valore della colonna Importo è maggiore di 50 \n",
    "\n",
    "- \"Prezzo medio\" se è compreso tra 30(escluso) e 50(incluso)\n",
    "\n",
    "- \"Prezzo basso\" se minore o uguale a 30"
   ]
  },
  {
   "cell_type": "code",
   "execution_count": null,
   "metadata": {},
   "outputs": [],
   "source": [
    "fatture[\"TipologiaPrezzo2\"] = np.select([fatture[\"Importo\"] > 50, \n",
    "                                         (fatture[\"Importo\"] > 30) & (fatture[\"Importo\"] <=50),\n",
    "                                         fatture[\"Importo\"] <= 30],\n",
    "                                         [\"Prezzo alto\", \n",
    "                                          \"Prezzo medio\",\n",
    "                                          \"Prezzo basso\"],\n",
    "                                          default='Non classificato')\n",
    "fatture"
   ]
  },
  {
   "cell_type": "markdown",
   "metadata": {},
   "source": [
    "## Creare colonne con porzioni di stringhe di un'altra colonna"
   ]
  },
  {
   "cell_type": "markdown",
   "metadata": {},
   "source": [
    "Creare una colonna con le iniziali di nome e cognome per ogni cliente"
   ]
  },
  {
   "cell_type": "code",
   "execution_count": null,
   "metadata": {},
   "outputs": [],
   "source": [
    "#SQL\n",
    "#CONCAT(SUBSTRING(Nome,1,1),SUBSTRING(Cognome,1,1))\n",
    "\n",
    "clienti[\"Iniziali\"] =  clienti[\"Nome\"].str.slice(start=0, stop =1) + clienti[\"Cognome\"].str.slice(start=0, stop =1)\n",
    "clienti"
   ]
  },
  {
   "cell_type": "markdown",
   "metadata": {},
   "source": [
    "## Visualizzare i dati senza duplicati"
   ]
  },
  {
   "cell_type": "markdown",
   "metadata": {},
   "source": [
    "Il prossimo codice visualizza le righe del DataFrame clienti senza duplicati (considerando i valori in tutte le colonne). \n",
    "\n",
    "ATTENZIONE! Per DataFrame con molte righe può essere un'operazione molto lunga"
   ]
  },
  {
   "cell_type": "code",
   "execution_count": null,
   "metadata": {},
   "outputs": [],
   "source": [
    "clienti.drop_duplicates()"
   ]
  },
  {
   "cell_type": "markdown",
   "metadata": {},
   "source": [
    "Più utile è utilizzare drop_duplicates per ottenere l'elenco di valori distinti in una colonna (o combinazione di colonne)"
   ]
  },
  {
   "cell_type": "code",
   "execution_count": null,
   "metadata": {},
   "outputs": [],
   "source": [
    "#Elenco delle regioni presenti: primo metodo\n",
    "\n",
    "clienti[[\"Regione\"]].drop_duplicates()"
   ]
  },
  {
   "cell_type": "code",
   "execution_count": null,
   "metadata": {},
   "outputs": [],
   "source": [
    "#Elenco delle regioni presenti: secondo metodo\n",
    "\n",
    "clienti.drop_duplicates(subset=[\"Regione\"], keep = \"first\")"
   ]
  },
  {
   "cell_type": "code",
   "execution_count": null,
   "metadata": {},
   "outputs": [],
   "source": [
    "#Proviamo a ordinare prima il DataFrame"
   ]
  },
  {
   "cell_type": "code",
   "execution_count": null,
   "metadata": {},
   "outputs": [],
   "source": [
    "clienti.sort_values(by=\"DataNascita\",ascending=False).drop_duplicates(subset=[\"Regione\"], keep = \"first\")"
   ]
  },
  {
   "cell_type": "code",
   "execution_count": null,
   "metadata": {},
   "outputs": [],
   "source": []
  }
 ],
 "metadata": {
  "kernelspec": {
   "display_name": "Python 3 (ipykernel)",
   "language": "python",
   "name": "python3"
  },
  "language_info": {
   "codemirror_mode": {
    "name": "ipython",
    "version": 3
   },
   "file_extension": ".py",
   "mimetype": "text/x-python",
   "name": "python",
   "nbconvert_exporter": "python",
   "pygments_lexer": "ipython3",
   "version": "3.11.3"
  }
 },
 "nbformat": 4,
 "nbformat_minor": 4
}
